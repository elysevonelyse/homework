{
 "cells": [
  {
   "cell_type": "markdown",
   "metadata": {},
   "source": [
    "Homework Week 2\n",
    "Media Practices: Programming\n",
    "This assignment is mostly about practicing manipulating numbers and strings in python. It ends with backing an algorithm out of code.\n"
   ]
  },
  {
   "cell_type": "markdown",
   "metadata": {},
   "source": [
    "Write code that when you run the cell generates a tic-tac-toe board\n",
    "Expected output:\n",
    "\n",
    "  |  |  \n",
    "--------\n",
    "  |  |  \n",
    "--------\n",
    "  |  |  \n",
    "\n",
    "First just use print statements"
   ]
  },
  {
   "cell_type": "code",
   "execution_count": 3,
   "metadata": {
    "collapsed": false
   },
   "outputs": [
    {
     "name": "stdout",
     "output_type": "stream",
     "text": [
      "|_|_|_|\n",
      "|_|_|_|\n",
      "|_|_|_|\n"
     ]
    }
   ],
   "source": [
    "    print(\"|_|_|_|\")\n",
    "    print(\"|_|_|_|\")\n",
    "    print(\"|_|_|_|\")\n",
    "    \n",
    "    "
   ]
  },
  {
   "cell_type": "code",
   "execution_count": null,
   "metadata": {
    "collapsed": true
   },
   "outputs": [],
   "source": [
    "\n"
   ]
  },
  {
   "cell_type": "markdown",
   "metadata": {},
   "source": [
    "Now do it using variables"
   ]
  },
  {
   "cell_type": "code",
   "execution_count": 2,
   "metadata": {
    "collapsed": false
   },
   "outputs": [
    {
     "name": "stdout",
     "output_type": "stream",
     "text": [
      "|_|_|_|\n",
      "|_|_|_|\n",
      "|_|_|_|\n"
     ]
    }
   ],
   "source": [
    "x = 1\n",
    "y = 2\n",
    "if y > 1:\n",
    "    print (\"|_|_|_|\")\n",
    "if x + y = 3:\n",
    "    print (\"|_|_|_|\")\n",
    "if x * y =2:\n",
    "    print (\"|_|_|_|\")\n",
    "    \n"
   ]
  },
  {
   "cell_type": "code",
   "execution_count": 5,
   "metadata": {
    "collapsed": false
   },
   "outputs": [
    {
     "name": "stdout",
     "output_type": "stream",
     "text": [
      "|        |\n",
      "----------\n",
      "|        |\n",
      "----------\n"
     ]
    }
   ],
   "source": [
    "x = \"|        |\"\n",
    "y = \"----------\"\n",
    "\n",
    "print x\n",
    "print y\n",
    "print x\n",
    "print y"
   ]
  },
  {
   "cell_type": "markdown",
   "metadata": {},
   "source": [
    "Starting with x and y as defined, write code to print the larger number"
   ]
  },
  {
   "cell_type": "code",
   "execution_count": 4,
   "metadata": {
    "collapsed": false
   },
   "outputs": [
    {
     "name": "stdout",
     "output_type": "stream",
     "text": [
      "54\n"
     ]
    },
    {
     "data": {
      "text/plain": [
       "54"
      ]
     },
     "execution_count": 4,
     "metadata": {},
     "output_type": "execute_result"
    }
   ],
   "source": [
    "x = 54\n",
    "y = 23\n",
    "\n",
    "#your code...\n",
    "if x > y:\n",
    "    print x\n",
    "else:\n",
    "    print y\n",
    "x\n"
   ]
  },
  {
   "cell_type": "markdown",
   "metadata": {},
   "source": [
    "Starting with x, y, and z as defined, write code to print the largest number"
   ]
  },
  {
   "cell_type": "code",
   "execution_count": 7,
   "metadata": {
    "collapsed": false
   },
   "outputs": [
    {
     "name": "stdout",
     "output_type": "stream",
     "text": [
      "23\n"
     ]
    }
   ],
   "source": [
    "x = -54\n",
    "y = 23\n",
    "z = 4\n",
    "\n",
    "#your code...\n",
    "if x < y and x < z:\n",
    "    print y"
   ]
  },
  {
   "cell_type": "code",
   "execution_count": 8,
   "metadata": {
    "collapsed": false
   },
   "outputs": [
    {
     "name": "stdout",
     "output_type": "stream",
     "text": [
      "23\n"
     ]
    }
   ],
   "source": [
    "if x > (y & z):\n",
    "    print x\n",
    "elif y > (x & z):\n",
    "    print y\n",
    "else:\n",
    "    print z"
   ]
  },
  {
   "cell_type": "raw",
   "metadata": {},
   "source": [
    "Write a vowel recognizer"
   ]
  },
  {
   "cell_type": "code",
   "execution_count": null,
   "metadata": {
    "collapsed": false
   },
   "outputs": [],
   "source": [
    "char_in = input(\"Enter a character (be sure it is in quotes)\")\n",
    "#your code\n",
    "\n",
    "vowels = [\"a\", \"e\", \"i\",\"o\", \"u\"]\n",
    "\n",
    "if char_in in vowels:\n",
    "    print \"this is a vowel\"\n",
    "else:\n",
    "    print \"this is not a vowel\""
   ]
  },
  {
   "cell_type": "code",
   "execution_count": null,
   "metadata": {
    "collapsed": false
   },
   "outputs": [],
   "source": [
    "char_in = input(\"a,e,i,o,u\")\n"
   ]
  },
  {
   "cell_type": "code",
   "execution_count": null,
   "metadata": {
    "collapsed": true
   },
   "outputs": [],
   "source": [
    "char_in = input(\"a,e,i,o,u\")\n"
   ]
  },
  {
   "cell_type": "markdown",
   "metadata": {},
   "source": [
    "Turn the following code into English\n"
   ]
  },
  {
   "cell_type": "code",
   "execution_count": null,
   "metadata": {
    "collapsed": false
   },
   "outputs": [
    {
     "name": "stdout",
     "output_type": "stream",
     "text": [
      "What? 1\n",
      "Pfft\n",
      "What? 1.4\n",
      "Pfft\n",
      "What? 5\n",
      "Meh\n"
     ]
    }
   ],
   "source": [
    "import random\n",
    "a = random.choice(range(1,11))\n",
    "b = 0\n",
    "while (a != b):\n",
    "    b = int(input(\"What? \"))\n",
    "    if abs(a-b) > 4:\n",
    "        print \"Pfft\"\n",
    "    elif abs(a-b) > 2:\n",
    "        print \"Meh\"\n",
    "    elif abs(a-b)>0:\n",
    "        print \"Hmmmm\"\n",
    "    else:\n",
    "        print \"OK\"\n",
    "\n",
    "\n",
    "#import random generator of numbers\n",
    "#a represents your random generator, with of generating numbers in a range of 1 - 11\n",
    "#b represents 0\n",
    "# while a does not equal b -until a equals b, it will repeat or loop this code that follows\n",
    "#b representing the input of the dialog box that is created\n",
    "\n",
    "#if absoluate vaulue of a minus b is greater than 4, print word pfft\n",
    "#if a minus b is greater than 2, print word meh\n",
    "#if a minus b is greater than 0, print word hmmmm\n",
    "#for any other results, print ok"
   ]
  },
  {
   "cell_type": "markdown",
   "metadata": {},
   "source": [
    "Now modify it into readable code. Be sure to make variables for all the numbers"
   ]
  },
  {
   "cell_type": "code",
   "execution_count": 1,
   "metadata": {
    "collapsed": false
   },
   "outputs": [
    {
     "name": "stdout",
     "output_type": "stream",
     "text": [
      "meh\n"
     ]
    }
   ],
   "source": [
    "a = 5\n",
    "b = 1\n",
    "\n",
    "\n",
    "if abs(a-b) > 4:\n",
    "    print \"pfft\"\n",
    "elif abs(a-b) > 2:\n",
    "     print \"meh\"\n",
    "elif abs(a-b) > 0:\n",
    "    print \"Hmmmm\"\n",
    "else:\n",
    "    print \"ok\""
   ]
  },
  {
   "cell_type": "markdown",
   "metadata": {},
   "source": [
    "Write an algorithm to print the lyrics to \"99 Bottles of Beer on the Wall\"\n",
    "99 bottles of beer on the wall, 99 bottles of beer.\n",
    "Take one down, pass it around, 98 bottles of beer on the wall.\n",
    "98 bottles of beer on the wall, 98 bottles of beer.\n",
    "Take one down, pass it around, 97 bottles of beer on the wall.\n",
    "...\n",
    "no more bottles of beer on the wall.\n"
   ]
  },
  {
   "cell_type": "code",
   "execution_count": 10,
   "metadata": {
    "collapsed": false,
    "scrolled": true
   },
   "outputs": [
    {
     "name": "stdout",
     "output_type": "stream",
     "text": [
      "99 bottles of beer on the wall, 99 bottles of beer.\n",
      "98 bottles of beer on the wall, 98 bottles of beer.\n",
      "97 bottles of beer on the wall, 97 bottles of beer.\n",
      "96 bottles of beer on the wall, 96 bottles of beer.\n",
      "95 bottles of beer on the wall, 95 bottles of beer.\n",
      "94 bottles of beer on the wall, 94 bottles of beer.\n",
      "93 bottles of beer on the wall, 93 bottles of beer.\n",
      "92 bottles of beer on the wall, 92 bottles of beer.\n",
      "91 bottles of beer on the wall, 91 bottles of beer.\n",
      "90 bottles of beer on the wall, 90 bottles of beer.\n",
      "89 bottles of beer on the wall, 89 bottles of beer.\n",
      "88 bottles of beer on the wall, 88 bottles of beer.\n",
      "87 bottles of beer on the wall, 87 bottles of beer.\n",
      "86 bottles of beer on the wall, 86 bottles of beer.\n",
      "85 bottles of beer on the wall, 85 bottles of beer.\n",
      "84 bottles of beer on the wall, 84 bottles of beer.\n",
      "83 bottles of beer on the wall, 83 bottles of beer.\n",
      "82 bottles of beer on the wall, 82 bottles of beer.\n",
      "81 bottles of beer on the wall, 81 bottles of beer.\n",
      "80 bottles of beer on the wall, 80 bottles of beer.\n",
      "79 bottles of beer on the wall, 79 bottles of beer.\n",
      "78 bottles of beer on the wall, 78 bottles of beer.\n",
      "77 bottles of beer on the wall, 77 bottles of beer.\n",
      "76 bottles of beer on the wall, 76 bottles of beer.\n",
      "75 bottles of beer on the wall, 75 bottles of beer.\n",
      "74 bottles of beer on the wall, 74 bottles of beer.\n",
      "73 bottles of beer on the wall, 73 bottles of beer.\n",
      "72 bottles of beer on the wall, 72 bottles of beer.\n",
      "71 bottles of beer on the wall, 71 bottles of beer.\n",
      "70 bottles of beer on the wall, 70 bottles of beer.\n",
      "69 bottles of beer on the wall, 69 bottles of beer.\n",
      "68 bottles of beer on the wall, 68 bottles of beer.\n",
      "67 bottles of beer on the wall, 67 bottles of beer.\n",
      "66 bottles of beer on the wall, 66 bottles of beer.\n",
      "65 bottles of beer on the wall, 65 bottles of beer.\n",
      "64 bottles of beer on the wall, 64 bottles of beer.\n",
      "63 bottles of beer on the wall, 63 bottles of beer.\n",
      "62 bottles of beer on the wall, 62 bottles of beer.\n",
      "61 bottles of beer on the wall, 61 bottles of beer.\n",
      "60 bottles of beer on the wall, 60 bottles of beer.\n",
      "59 bottles of beer on the wall, 59 bottles of beer.\n",
      "58 bottles of beer on the wall, 58 bottles of beer.\n",
      "57 bottles of beer on the wall, 57 bottles of beer.\n",
      "56 bottles of beer on the wall, 56 bottles of beer.\n",
      "55 bottles of beer on the wall, 55 bottles of beer.\n",
      "54 bottles of beer on the wall, 54 bottles of beer.\n",
      "53 bottles of beer on the wall, 53 bottles of beer.\n",
      "52 bottles of beer on the wall, 52 bottles of beer.\n",
      "51 bottles of beer on the wall, 51 bottles of beer.\n",
      "50 bottles of beer on the wall, 50 bottles of beer.\n",
      "49 bottles of beer on the wall, 49 bottles of beer.\n",
      "48 bottles of beer on the wall, 48 bottles of beer.\n",
      "47 bottles of beer on the wall, 47 bottles of beer.\n",
      "46 bottles of beer on the wall, 46 bottles of beer.\n",
      "45 bottles of beer on the wall, 45 bottles of beer.\n",
      "44 bottles of beer on the wall, 44 bottles of beer.\n",
      "43 bottles of beer on the wall, 43 bottles of beer.\n",
      "42 bottles of beer on the wall, 42 bottles of beer.\n",
      "41 bottles of beer on the wall, 41 bottles of beer.\n",
      "40 bottles of beer on the wall, 40 bottles of beer.\n",
      "39 bottles of beer on the wall, 39 bottles of beer.\n",
      "38 bottles of beer on the wall, 38 bottles of beer.\n",
      "37 bottles of beer on the wall, 37 bottles of beer.\n",
      "36 bottles of beer on the wall, 36 bottles of beer.\n",
      "35 bottles of beer on the wall, 35 bottles of beer.\n",
      "34 bottles of beer on the wall, 34 bottles of beer.\n",
      "33 bottles of beer on the wall, 33 bottles of beer.\n",
      "32 bottles of beer on the wall, 32 bottles of beer.\n",
      "31 bottles of beer on the wall, 31 bottles of beer.\n",
      "30 bottles of beer on the wall, 30 bottles of beer.\n",
      "29 bottles of beer on the wall, 29 bottles of beer.\n",
      "28 bottles of beer on the wall, 28 bottles of beer.\n",
      "27 bottles of beer on the wall, 27 bottles of beer.\n",
      "26 bottles of beer on the wall, 26 bottles of beer.\n",
      "25 bottles of beer on the wall, 25 bottles of beer.\n",
      "24 bottles of beer on the wall, 24 bottles of beer.\n",
      "23 bottles of beer on the wall, 23 bottles of beer.\n",
      "22 bottles of beer on the wall, 22 bottles of beer.\n",
      "21 bottles of beer on the wall, 21 bottles of beer.\n",
      "20 bottles of beer on the wall, 20 bottles of beer.\n",
      "19 bottles of beer on the wall, 19 bottles of beer.\n",
      "18 bottles of beer on the wall, 18 bottles of beer.\n",
      "17 bottles of beer on the wall, 17 bottles of beer.\n",
      "16 bottles of beer on the wall, 16 bottles of beer.\n",
      "15 bottles of beer on the wall, 15 bottles of beer.\n",
      "14 bottles of beer on the wall, 14 bottles of beer.\n",
      "13 bottles of beer on the wall, 13 bottles of beer.\n",
      "12 bottles of beer on the wall, 12 bottles of beer.\n",
      "11 bottles of beer on the wall, 11 bottles of beer.\n",
      "10 bottles of beer on the wall, 10 bottles of beer.\n",
      "9 bottles of beer on the wall, 9 bottles of beer.\n",
      "8 bottles of beer on the wall, 8 bottles of beer.\n",
      "7 bottles of beer on the wall, 7 bottles of beer.\n",
      "6 bottles of beer on the wall, 6 bottles of beer.\n",
      "5 bottles of beer on the wall, 5 bottles of beer.\n",
      "4 bottles of beer on the wall, 4 bottles of beer.\n",
      "3 bottles of beer on the wall, 3 bottles of beer.\n",
      "2 bottles of beer on the wall, 2 bottles of beer.\n",
      "no more beer on the wall\n",
      "no more beer on the wall\n",
      "1 bottle of beer on the wall, 1 bottle of beer.\n",
      "Take one down, pass it around, 2bottles of beer on the wall.\n",
      "--\n"
     ]
    }
   ],
   "source": [
    "end = \"no more beer on the wall!\"\n",
    "\n",
    "for quant in range(99, 0, -1):\n",
    "    if quant > 1:\n",
    "          print quant, \"bottles of beer on the wall,\", quant, \"bottles of beer.\"\n",
    "    if quant > 2:\n",
    "         end = str(quant - 1) + \"bottles of beer on the wall.\"\n",
    "    else:\n",
    "         end = \"1 bottle of beer on the wall.\"\n",
    "if quant == 1:\n",
    "    print \"1 bottle of beer on the wall, 1 bottle of beer.\"\n",
    "    print \"Take one down, pass it around,\", end\n",
    "    print \"--\"\n",
    "if quant < 1: \n",
    "    print \"no more bottles of beer on the wall.\""
   ]
  },
  {
   "cell_type": "code",
   "execution_count": null,
   "metadata": {
    "collapsed": true
   },
   "outputs": [],
   "source": []
  },
  {
   "cell_type": "code",
   "execution_count": null,
   "metadata": {
    "collapsed": true
   },
   "outputs": [],
   "source": [
    "\n",
    "\n",
    "\n",
    "\n",
    "99 bottles of beer on the wall, 99 bottles of beer.\n",
    "Take one down and pass it around, 98 bottles of beer on the wall.\n",
    "98 bottles of beer on the wall, 98 bottles of beer.\n",
    "Take one down and pass it around, 97 bottles of beer on the wall.\n",
    "97 bottles of beer on the wall, 97 bottles of beer.\n",
    "Take one down and pass it around, 96 bottles of beer on the wall.\n",
    "96 bottles of beer on the wall, 96 bottles of beer.\n",
    "Take one down and pass it around, 95 bottles of beer on the wall.\n",
    "95 bottles of beer on the wall, 95 bottles of beer.\n",
    "Take one down and pass it around, 94 bottles of beer on the wall.\n",
    "94 bottles of beer on the wall, 94 bottles of beer.\n",
    "Take one down and pass it around, 93 bottles of beer on the wall.\n",
    "93 bottles of beer on the wall, 93 bottles of beer.\n",
    "Take one down and pass it around, 92 bottles of beer on the wall.\n",
    "92 bottles of beer on the wall, 92 bottles of beer.\n",
    "Take one down and pass it around, 91 bottles of beer on the wall.\n",
    "91 bottles of beer on the wall, 91 bottles of beer.\n",
    "Take one down and pass it around, 90 bottles of beer on the wall.\n",
    "90 bottles of beer on the wall, 90 bottles of beer.\n",
    "Take one down and pass it around, 89 bottles of beer on the wall.\n",
    "89 bottles of beer on the wall, 89 bottles of beer.\n",
    "Take one down and pass it around, 88 bottles of beer on the wall.\n",
    "88 bottles of beer on the wall, 88 bottles of beer.\n",
    "Take one down and pass it around, 87 bottles of beer on the wall.\n",
    "87 bottles of beer on the wall, 87 bottles of beer.\n",
    "Take one down and pass it around, 86 bottles of beer on the wall.\n",
    "86 bottles of beer on the wall, 86 bottles of beer.\n",
    "Take one down and pass it around, 85 bottles of beer on the wall.\n",
    "85 bottles of beer on the wall, 85 bottles of beer.\n",
    "Take one down and pass it around, 84 bottles of beer on the wall.\n",
    "84 bottles of beer on the wall, 84 bottles of beer.\n",
    "Take one down and pass it around, 83 bottles of beer on the wall.\n",
    "83 bottles of beer on the wall, 83 bottles of beer.\n",
    "Take one down and pass it around, 82 bottles of beer on the wall.\n",
    "82 bottles of beer on the wall, 82 bottles of beer.\n",
    "Take one down and pass it around, 81 bottles of beer on the wall.\n",
    "81 bottles of beer on the wall, 81 bottles of beer.\n",
    "Take one down and pass it around, 80 bottles of beer on the wall.\n",
    "80 bottles of beer on the wall, 80 bottles of beer.\n",
    "Take one down and pass it around, 79 bottles of beer on the wall.\n",
    "79 bottles of beer on the wall, 79 bottles of beer.\n",
    "Take one down and pass it around, 78 bottles of beer on the wall.\n",
    "78 bottles of beer on the wall, 78 bottles of beer.\n",
    "Take one down and pass it around, 77 bottles of beer on the wall.\n",
    "77 bottles of beer on the wall, 77 bottles of beer.\n",
    "Take one down and pass it around, 76 bottles of beer on the wall.\n",
    "76 bottles of beer on the wall, 76 bottles of beer.\n",
    "Take one down and pass it around, 75 bottles of beer on the wall.\n",
    "75 bottles of beer on the wall, 75 bottles of beer.\n",
    "Take one down and pass it around, 74 bottles of beer on the wall.\n",
    "74 bottles of beer on the wall, 74 bottles of beer.\n",
    "Take one down and pass it around, 73 bottles of beer on the wall.\n",
    "73 bottles of beer on the wall, 73 bottles of beer.\n",
    "Take one down and pass it around, 72 bottles of beer on the wall.\n",
    "72 bottles of beer on the wall, 72 bottles of beer.\n",
    "Take one down and pass it around, 71 bottles of beer on the wall.\n",
    "71 bottles of beer on the wall, 71 bottles of beer.\n",
    "Take one down and pass it around, 70 bottles of beer on the wall.\n",
    "70 bottles of beer on the wall, 70 bottles of beer.\n",
    "Take one down and pass it around, 69 bottles of beer on the wall.\n",
    "69 bottles of beer on the wall, 69 bottles of beer.\n",
    "Take one down and pass it around, 68 bottles of beer on the wall.\n",
    "68 bottles of beer on the wall, 68 bottles of beer.\n",
    "Take one down and pass it around, 67 bottles of beer on the wall.\n",
    "67 bottles of beer on the wall, 67 bottles of beer.\n",
    "Take one down and pass it around, 66 bottles of beer on the wall.\n",
    "66 bottles of beer on the wall, 66 bottles of beer.\n",
    "Take one down and pass it around, 65 bottles of beer on the wall.\n",
    "65 bottles of beer on the wall, 65 bottles of beer.\n",
    "Take one down and pass it around, 64 bottles of beer on the wall.\n",
    "64 bottles of beer on the wall, 64 bottles of beer.\n",
    "Take one down and pass it around, 63 bottles of beer on the wall.\n",
    "63 bottles of beer on the wall, 63 bottles of beer.\n",
    "Take one down and pass it around, 62 bottles of beer on the wall.\n",
    "62 bottles of beer on the wall, 62 bottles of beer.\n",
    "Take one down and pass it around, 61 bottles of beer on the wall.\n",
    "61 bottles of beer on the wall, 61 bottles of beer.\n",
    "Take one down and pass it around, 60 bottles of beer on the wall.\n",
    "60 bottles of beer on the wall, 60 bottles of beer.\n",
    "Take one down and pass it around, 59 bottles of beer on the wall.\n",
    "59 bottles of beer on the wall, 59 bottles of beer.\n",
    "Take one down and pass it around, 58 bottles of beer on the wall.\n",
    "58 bottles of beer on the wall, 58 bottles of beer.\n",
    "Take one down and pass it around, 57 bottles of beer on the wall.\n",
    "57 bottles of beer on the wall, 57 bottles of beer.\n",
    "Take one down and pass it around, 56 bottles of beer on the wall.\n",
    "56 bottles of beer on the wall, 56 bottles of beer.\n",
    "Take one down and pass it around, 55 bottles of beer on the wall.\n",
    "55 bottles of beer on the wall, 55 bottles of beer.\n",
    "Take one down and pass it around, 54 bottles of beer on the wall.\n",
    "54 bottles of beer on the wall, 54 bottles of beer.\n",
    "Take one down and pass it around, 53 bottles of beer on the wall.\n",
    "53 bottles of beer on the wall, 53 bottles of beer.\n",
    "Take one down and pass it around, 52 bottles of beer on the wall.\n",
    "52 bottles of beer on the wall, 52 bottles of beer.\n",
    "Take one down and pass it around, 51 bottles of beer on the wall.\n",
    "51 bottles of beer on the wall, 51 bottles of beer.\n",
    "Take one down and pass it around, 50 bottles of beer on the wall.\n",
    "50 bottles of beer on the wall, 50 bottles of beer.\n",
    "Take one down and pass it around, 49 bottles of beer on the wall.\n",
    "49 bottles of beer on the wall, 49 bottles of beer.\n",
    "Take one down and pass it around, 48 bottles of beer on the wall.\n",
    "48 bottles of beer on the wall, 48 bottles of beer.\n",
    "Take one down and pass it around, 47 bottles of beer on the wall.\n",
    "47 bottles of beer on the wall, 47 bottles of beer.\n",
    "Take one down and pass it around, 46 bottles of beer on the wall.\n",
    "46 bottles of beer on the wall, 46 bottles of beer.\n",
    "Take one down and pass it around, 45 bottles of beer on the wall.\n",
    "45 bottles of beer on the wall, 45 bottles of beer.\n",
    "Take one down and pass it around, 44 bottles of beer on the wall.\n",
    "44 bottles of beer on the wall, 44 bottles of beer.\n",
    "Take one down and pass it around, 43 bottles of beer on the wall.\n",
    "43 bottles of beer on the wall, 43 bottles of beer.\n",
    "Take one down and pass it around, 42 bottles of beer on the wall.\n",
    "42 bottles of beer on the wall, 42 bottles of beer.\n",
    "Take one down and pass it around, 41 bottles of beer on the wall.\n",
    "41 bottles of beer on the wall, 41 bottles of beer.\n",
    "Take one down and pass it around, 40 bottles of beer on the wall.\n",
    "40 bottles of beer on the wall, 40 bottles of beer.\n",
    "Take one down and pass it around, 39 bottles of beer on the wall.\n",
    "39 bottles of beer on the wall, 39 bottles of beer.\n",
    "Take one down and pass it around, 38 bottles of beer on the wall.\n",
    "38 bottles of beer on the wall, 38 bottles of beer.\n",
    "Take one down and pass it around, 37 bottles of beer on the wall.\n",
    "37 bottles of beer on the wall, 37 bottles of beer.\n",
    "Take one down and pass it around, 36 bottles of beer on the wall.\n",
    "36 bottles of beer on the wall, 36 bottles of beer.\n",
    "Take one down and pass it around, 35 bottles of beer on the wall.\n",
    "35 bottles of beer on the wall, 35 bottles of beer.\n",
    "Take one down and pass it around, 34 bottles of beer on the wall.\n",
    "34 bottles of beer on the wall, 34 bottles of beer.\n",
    "Take one down and pass it around, 33 bottles of beer on the wall.\n",
    "33 bottles of beer on the wall, 33 bottles of beer.\n",
    "Take one down and pass it around, 32 bottles of beer on the wall.\n",
    "32 bottles of beer on the wall, 32 bottles of beer.\n",
    "Take one down and pass it around, 31 bottles of beer on the wall.\n",
    "31 bottles of beer on the wall, 31 bottles of beer.\n",
    "Take one down and pass it around, 30 bottles of beer on the wall.\n",
    "30 bottles of beer on the wall, 30 bottles of beer.\n",
    "Take one down and pass it around, 29 bottles of beer on the wall.\n",
    "29 bottles of beer on the wall, 29 bottles of beer.\n",
    "Take one down and pass it around, 28 bottles of beer on the wall.\n",
    "28 bottles of beer on the wall, 28 bottles of beer.\n",
    "Take one down and pass it around, 27 bottles of beer on the wall.\n",
    "27 bottles of beer on the wall, 27 bottles of beer.\n",
    "Take one down and pass it around, 26 bottles of beer on the wall.\n",
    "26 bottles of beer on the wall, 26 bottles of beer.\n",
    "Take one down and pass it around, 25 bottles of beer on the wall.\n",
    "25 bottles of beer on the wall, 25 bottles of beer.\n",
    "Take one down and pass it around, 24 bottles of beer on the wall.\n",
    "24 bottles of beer on the wall, 24 bottles of beer.\n",
    "Take one down and pass it around, 23 bottles of beer on the wall.\n",
    "23 bottles of beer on the wall, 23 bottles of beer.\n",
    "Take one down and pass it around, 22 bottles of beer on the wall.\n",
    "22 bottles of beer on the wall, 22 bottles of beer.\n",
    "Take one down and pass it around, 21 bottles of beer on the wall.\n",
    "21 bottles of beer on the wall, 21 bottles of beer.\n",
    "Take one down and pass it around, 20 bottles of beer on the wall.\n",
    "20 bottles of beer on the wall, 20 bottles of beer.\n",
    "Take one down and pass it around, 19 bottles of beer on the wall.\n",
    "19 bottles of beer on the wall, 19 bottles of beer.\n",
    "Take one down and pass it around, 18 bottles of beer on the wall.\n",
    "18 bottles of beer on the wall, 18 bottles of beer.\n",
    "Take one down and pass it around, 17 bottles of beer on the wall.\n",
    "17 bottles of beer on the wall, 17 bottles of beer.\n",
    "Take one down and pass it around, 16 bottles of beer on the wall.\n",
    "16 bottles of beer on the wall, 16 bottles of beer.\n",
    "Take one down and pass it around, 15 bottles of beer on the wall.\n",
    "15 bottles of beer on the wall, 15 bottles of beer.\n",
    "Take one down and pass it around, 14 bottles of beer on the wall.\n",
    "14 bottles of beer on the wall, 14 bottles of beer.\n",
    "Take one down and pass it around, 13 bottles of beer on the wall.\n",
    "13 bottles of beer on the wall, 13 bottles of beer.\n",
    "Take one down and pass it around, 12 bottles of beer on the wall.\n",
    "12 bottles of beer on the wall, 12 bottles of beer.\n",
    "Take one down and pass it around, 11 bottles of beer on the wall.\n",
    "11 bottles of beer on the wall, 11 bottles of beer.\n",
    "Take one down and pass it around, 10 bottles of beer on the wall.\n",
    "10 bottles of beer on the wall, 10 bottles of beer.\n",
    "Take one down and pass it around, 9 bottles of beer on the wall.\n",
    "9 bottles of beer on the wall, 9 bottles of beer.\n",
    "Take one down and pass it around, 8 bottles of beer on the wall.\n",
    "8 bottles of beer on the wall, 8 bottles of beer.\n",
    "Take one down and pass it around, 7 bottles of beer on the wall.\n",
    "7 bottles of beer on the wall, 7 bottles of beer.\n",
    "Take one down and pass it around, 6 bottles of beer on the wall.\n",
    "6 bottles of beer on the wall, 6 bottles of beer.\n",
    "Take one down and pass it around, 5 bottles of beer on the wall.\n",
    "5 bottles of beer on the wall, 5 bottles of beer.\n",
    "Take one down and pass it around, 4 bottles of beer on the wall.\n",
    "4 bottles of beer on the wall, 4 bottles of beer.\n",
    "Take one down and pass it around, 3 bottles of beer on the wall.\n",
    "3 bottles of beer on the wall, 3 bottles of beer.\n",
    "Take one down and pass it around, 2 bottles of beer on the wall.\n",
    "2 bottles of beer on the wall, 2 bottles of beer.\n",
    "Take one down and pass it around, 1 bottle of beer on the wall.\n",
    "1 bottle of beer on the wall, 1 bottle of beer.\n",
    "Take one down and pass it around, no more bottles of beer on the wall.\n",
    "No more bottles of beer on the wall, no more bottles of beer. \n",
    "Go to the store and buy some more, 99 bottles of beer on the wall.\n"
   ]
  },
  {
   "cell_type": "markdown",
   "metadata": {},
   "source": [
    "For the brave, implement your algorithm in Python"
   ]
  },
  {
   "cell_type": "code",
   "execution_count": null,
   "metadata": {
    "collapsed": true
   },
   "outputs": [],
   "source": [
    "for "
   ]
  }
 ],
 "metadata": {
  "kernelspec": {
   "display_name": "Python 2",
   "language": "python",
   "name": "python2"
  },
  "language_info": {
   "codemirror_mode": {
    "name": "ipython",
    "version": 2
   },
   "file_extension": ".py",
   "mimetype": "text/x-python",
   "name": "python",
   "nbconvert_exporter": "python",
   "pygments_lexer": "ipython2",
   "version": "2.7.10"
  }
 },
 "nbformat": 4,
 "nbformat_minor": 0
}
