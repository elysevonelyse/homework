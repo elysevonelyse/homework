{
 "cells": [
  {
   "cell_type": "markdown",
   "metadata": {},
   "source": [
    "# Homework Week 8\n",
    "## Media Practices: Programming\n",
    "\n"
   ]
  },
  {
   "cell_type": "markdown",
   "metadata": {
    "collapsed": true
   },
   "source": [
    "### Task 1\n",
    "\n",
    "Draw out a Finite State Machine for a simple DVD player.\n",
    "\n",
    "Inputs are : \n",
    "* Play/pause button, \n",
    "* fast forward button, \n",
    "* rewind button, \n",
    "* mute audio button, \n",
    "* door open switch, \n",
    "* media present sensor\n",
    "\n",
    "Outputs are: \n",
    "* video screen, \n",
    "* audio speaker"
   ]
  },
  {
   "cell_type": "code",
   "execution_count": null,
   "metadata": {
    "collapsed": true
   },
   "outputs": [],
   "source": [
    "OFF ----door open--> ON --- media present-----------> Video Screen \n",
    "                      |                               |      |____Mute audio -----> Audio speaker\n",
    "                      |----------- play/pause---------|\n",
    "                      |----------- FF ----------------|                                        \n",
    "                      |------------RW-----------------|"
   ]
  },
  {
   "cell_type": "markdown",
   "metadata": {},
   "source": [
    " Task 2\n",
    "\n",
    "Turn in some notes/ideas on areas you'd like to try to do your project in.\n"
   ]
  },
  {
   "cell_type": "code",
   "execution_count": null,
   "metadata": {
    "collapsed": true
   },
   "outputs": [],
   "source": [
    "I'm really not sure yet'"
   ]
  },
  {
   "cell_type": "markdown",
   "metadata": {},
   "source": [
    "### Task 3\n",
    "\n",
    "Turn the following into working python. \n",
    "\n",
    "It should test by reading the file data/movieplots.txt so be sure you copy that from my repository as well.\n",
    "\n",
    "### The Algorithm\n",
    "```\n",
    "set sentence_count = 0\n",
    "while not at end of STORY \n",
    "    scan STORY for 'A'..'Z'\n",
    "    when one is found note it's position as CAP_FOUND\n",
    "    scan from  CAP_FOUND for '.' or '?' or '!' or '\"' or end of STORY\n",
    "    if '\"' found from here for '\"' or end of STORY\n",
    "\n",
    "    if end of story found quit\n",
    "    if '.' found if next char a number ignore and continue scanning else increment sentence_count\n",
    "    if '?' or '!'found increment sentence_count\n",
    "\n",
    "```"
   ]
  },
  {
   "cell_type": "code",
   "execution_count": 14,
   "metadata": {
    "collapsed": false
   },
   "outputs": [
    {
     "ename": "SyntaxError",
     "evalue": "invalid syntax (<ipython-input-14-cc7bed3b5786>, line 15)",
     "output_type": "error",
     "traceback": [
      "\u001b[0;36m  File \u001b[0;32m\"<ipython-input-14-cc7bed3b5786>\"\u001b[0;36m, line \u001b[0;32m15\u001b[0m\n\u001b[0;31m    elif CAP_FOUND:\u001b[0m\n\u001b[0m       ^\u001b[0m\n\u001b[0;31mSyntaxError\u001b[0m\u001b[0;31m:\u001b[0m invalid syntax\n"
     ]
    }
   ],
   "source": [
    "testfile = open('data/movieplots_100m.txt')\n",
    "STORY = testfile.read()\n",
    "CAP_FOUND = -1\n",
    "# position of last capital letter\n",
    "QUOTE_FOUND = False\n",
    "\n",
    "import string\n",
    "\n",
    "def count_sentences(STORY):\n",
    "    sentence_count = 0\n",
    "    for character_index in range(len(STORY)):\n",
    "        if not CAP_FOUND and STORY[character_index] in string.ascii_uppercase :\n",
    "            CAP_FOUND = character_index\n",
    "            \n",
    "    elif CAP_FOUND:           \n",
    "        if STORY[character_index] in ['.', '!', '?'] :\n",
    "             if STORY[character_index] == '.'        \n",
    "                if STORY([character_index] + 1) == '0' or '1' or '2' or '3' or '4' or '5' or '6' or '7' or '8'or '9':\n",
    "                    continue \n",
    "    else:\n",
    "        sentence_count +=1\n",
    "        QUOTE_FOUND = False\n",
    "        CAP_FOUND = False\n",
    "    \n",
    "    elif STORY[character_index] == '\"':  \n",
    "        if not QUOTE_FOUND:\n",
    "            QUOTE_FOUND = True\n",
    "               else: \n",
    "                    QUOTE_FOUND = False\n",
    "                   \n",
    "    return sentence_count\n",
    "print count_sentences(STORY)"
   ]
  },
  {
   "cell_type": "code",
   "execution_count": null,
   "metadata": {
    "collapsed": true
   },
   "outputs": [],
   "source": []
  },
  {
   "cell_type": "code",
   "execution_count": null,
   "metadata": {
    "collapsed": true
   },
   "outputs": [],
   "source": []
  },
  {
   "cell_type": "code",
   "execution_count": null,
   "metadata": {
    "collapsed": true
   },
   "outputs": [],
   "source": []
  }
 ],
 "metadata": {
  "kernelspec": {
   "display_name": "Python 2",
   "language": "python",
   "name": "python2"
  },
  "language_info": {
   "codemirror_mode": {
    "name": "ipython",
    "version": 2
   },
   "file_extension": ".py",
   "mimetype": "text/x-python",
   "name": "python",
   "nbconvert_exporter": "python",
   "pygments_lexer": "ipython2",
   "version": "2.7.10"
  }
 },
 "nbformat": 4,
 "nbformat_minor": 0
}
